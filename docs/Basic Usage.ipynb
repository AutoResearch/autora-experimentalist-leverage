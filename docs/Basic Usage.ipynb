{
 "cells": [
  {
   "attachments": {},
   "cell_type": "markdown",
   "metadata": {
    "collapsed": false
   },
   "source": [
    "# Basic Usage\n"
   ]
  },
  {
   "cell_type": "code",
   "execution_count": null,
   "metadata": {
    "collapsed": false
   },
   "outputs": [],
   "source": [
    "from autora.experimentalist.sampler.leverage import Example\n",
    "\n",
    "\n",
    "#PLACEHOLDER:\n",
    "\n",
    "#DELETE THE FOLLOWING IF IT STILL EXISTS:\n",
    "\n",
    "import numpy as np\n",
    "import matplotlib.pyplot as plt\n",
    "from autora.theorist.darts import DARTSRegressor; DARTSRegressor()\n",
    "from sklearn.linear_model import LogisticRegression\n",
    "#from autora.experimentalist.sampler.leverage import leverage_sampler\n",
    "\n",
    "#Define meta-parameters\n",
    "X = np.linspace(start=-3, stop=6, num=10).reshape(-1, 1)\n",
    "\n",
    "#Define ground truth model\n",
    "def ground_truth(xs):\n",
    "    y = (xs ** 2.0)\n",
    "    y[xs < 0] = 0\n",
    "    return y\n",
    "\n",
    "#Initiate theorists\n",
    "darts_theorist = DARTSRegressor()\n",
    "lr_theorist = LogisticRegression()\n",
    "\n",
    "#Fit theorists\n",
    "darts_theorist.fit(X,ground_truth(X))\n",
    "lr_theorist.fit(X,ground_truth(X).ravel()) #TODO: Why does this need ravel now??\n",
    "\n",
    "#Determine samples\n",
    "models = [darts_theorist, lr_theorist]\n",
    "sampler_proposal = leverage_sampler(X, models)\n",
    "#Y = ground_truth(X)\n"
   ]
  },
  {
   "attachments": {},
   "cell_type": "markdown",
   "metadata": {},
   "source": [
    "Include inline mathematics like this: $4 < 5$\n",
    "\n",
    "Include block mathematics like this (don't forget the empty lines above and below the block):\n",
    "\n",
    "$$  \n",
    "y + 1 = 4 \n",
    "$$\n",
    "\n",
    "... or this:\n",
    "\n",
    "\\begin{align}\n",
    "    p(v_i=1|\\mathbf{h}) & = \\sigma\\left(\\sum_j w_{ij}h_j + b_i\\right) \\\\\n",
    "    p(h_j=1|\\mathbf{v}) & = \\sigma\\left(\\sum_i w_{ij}v_i + c_j\\right)\n",
    "\\end{align}"
   ]
  },
  {
   "attachments": {},
   "cell_type": "markdown",
   "metadata": {},
   "source": []
  }
 ],
 "metadata": {
  "kernelspec": {
   "display_name": "Python 3",
   "language": "python",
   "name": "python3"
  },
  "language_info": {
   "codemirror_mode": {
    "name": "ipython",
    "version": 2
   },
   "file_extension": ".py",
   "mimetype": "text/x-python",
   "name": "python",
   "nbconvert_exporter": "python",
   "pygments_lexer": "ipython2",
   "version": "2.7.6"
  }
 },
 "nbformat": 4,
 "nbformat_minor": 0
}
